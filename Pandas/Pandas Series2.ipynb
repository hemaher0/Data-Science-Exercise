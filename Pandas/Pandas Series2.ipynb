{
 "cells": [
  {
   "cell_type": "code",
   "execution_count": 19,
   "id": "4001024b",
   "metadata": {},
   "outputs": [],
   "source": [
    "import pandas as pd\n",
    "import numpy as np"
   ]
  },
  {
   "cell_type": "code",
   "execution_count": 20,
   "id": "0e8a2ddf",
   "metadata": {
    "scrolled": true
   },
   "outputs": [
    {
     "name": "stdout",
     "output_type": "stream",
     "text": [
      "a    0\n",
      "b    2\n",
      "c    3\n",
      "d    4\n",
      "e    6\n",
      "dtype: int64\n"
     ]
    }
   ],
   "source": [
    "series = pd.Series({'a':1, 'b':2, 'c':3, 'd':4, 'e':5})\n",
    "#modifying elements\n",
    "series[0] = 0\n",
    "series['e'] = 6\n",
    "print(series)"
   ]
  },
  {
   "cell_type": "code",
   "execution_count": 21,
   "id": "c43440ef",
   "metadata": {},
   "outputs": [
    {
     "name": "stdout",
     "output_type": "stream",
     "text": [
      "a    10\n",
      "b    10\n",
      "c    10\n",
      "d     4\n",
      "e     6\n",
      "dtype: int64\n"
     ]
    }
   ],
   "source": [
    "series[:3] = 10\n",
    "print(series)"
   ]
  },
  {
   "cell_type": "code",
   "execution_count": 22,
   "id": "e3e98a04",
   "metadata": {},
   "outputs": [
    {
     "name": "stdout",
     "output_type": "stream",
     "text": [
      "a    11\n",
      "b    12\n",
      "c    13\n",
      "d     4\n",
      "e     6\n",
      "dtype: int64\n"
     ]
    }
   ],
   "source": [
    "series[:3] = [11, 12, 13]\n",
    "#series[:3] = [11, 12, 13, 14] #This occurs an error.\n",
    "print(series)"
   ]
  },
  {
   "cell_type": "code",
   "execution_count": 23,
   "id": "ff8e474f",
   "metadata": {},
   "outputs": [
    {
     "name": "stdout",
     "output_type": "stream",
     "text": [
      "a    11\n",
      "b    12\n",
      "c    13\n",
      "d     4\n",
      "e     6\n",
      "Name: Series 1, dtype: int64\n"
     ]
    }
   ],
   "source": [
    "series = series.rename('Series 1')\n",
    "print(series)"
   ]
  },
  {
   "cell_type": "code",
   "execution_count": 24,
   "id": "0b04f16f",
   "metadata": {},
   "outputs": [
    {
     "name": "stdout",
     "output_type": "stream",
     "text": [
      "A    11\n",
      "B    12\n",
      "C    13\n",
      "D     4\n",
      "E     6\n",
      "Name: Series 1, dtype: int64\n"
     ]
    }
   ],
   "source": [
    "series = series.rename(str.upper)\n",
    "print(series)"
   ]
  },
  {
   "cell_type": "code",
   "execution_count": 25,
   "id": "44c1a6bb",
   "metadata": {
    "scrolled": true
   },
   "outputs": [
    {
     "name": "stdout",
     "output_type": "stream",
     "text": [
      "B    12.0\n",
      "A    11.0\n",
      "C    13.0\n",
      "E     6.0\n",
      "Z     NaN\n",
      "F     NaN\n",
      "D     4.0\n",
      "Name: Series 1, dtype: float64\n"
     ]
    }
   ],
   "source": [
    "series = series.reindex({'B', 'A', 'E', 'C', 'D', 'F', 'Z'})\n",
    "print(series)"
   ]
  },
  {
   "cell_type": "markdown",
   "id": "7962d2a1",
   "metadata": {},
   "source": [
    "# comparision"
   ]
  },
  {
   "cell_type": "code",
   "execution_count": 26,
   "id": "62c7941e",
   "metadata": {},
   "outputs": [
    {
     "name": "stdout",
     "output_type": "stream",
     "text": [
      "0    False\n",
      "1    False\n",
      "2    False\n",
      "3     True\n",
      "4    False\n",
      "5    False\n",
      "dtype: bool\n"
     ]
    }
   ],
   "source": [
    "series_1 = pd.Series([1,2,3,4,5,np.nan])\n",
    "series_2= pd.Series([5,2,4,1,np.nan, 3])\n",
    "comp = series_1 > series_2\n",
    "print(comp)"
   ]
  },
  {
   "cell_type": "code",
   "execution_count": 27,
   "id": "e2caa975",
   "metadata": {},
   "outputs": [
    {
     "name": "stdout",
     "output_type": "stream",
     "text": [
      "0    False\n",
      "1     True\n",
      "2    False\n",
      "3    False\n",
      "4    False\n",
      "5     True\n",
      "dtype: bool\n"
     ]
    }
   ],
   "source": [
    "comp = series_1.eq(series_2, fill_value = 3)\n",
    "print(comp)"
   ]
  },
  {
   "cell_type": "code",
   "execution_count": 28,
   "id": "eff86392",
   "metadata": {},
   "outputs": [
    {
     "name": "stdout",
     "output_type": "stream",
     "text": [
      "False\n"
     ]
    }
   ],
   "source": [
    "comp = series_1.equals(series_2)\n",
    "print(comp)"
   ]
  },
  {
   "cell_type": "code",
   "execution_count": 29,
   "id": "2d77f3f8",
   "metadata": {},
   "outputs": [
    {
     "name": "stdout",
     "output_type": "stream",
     "text": [
      "False\n"
     ]
    }
   ],
   "source": [
    "comp = series_1[0] > series_2[3]\n",
    "print(comp)"
   ]
  },
  {
   "cell_type": "code",
   "execution_count": 30,
   "id": "3ddfc45a",
   "metadata": {},
   "outputs": [
    {
     "name": "stdout",
     "output_type": "stream",
     "text": [
      "0    False\n",
      "1    False\n",
      "2    False\n",
      "3    False\n",
      "4     True\n",
      "5    False\n",
      "dtype: bool\n"
     ]
    }
   ],
   "source": [
    "comp = series_1 >= 5\n",
    "print(comp)"
   ]
  },
  {
   "cell_type": "markdown",
   "id": "f8359c22",
   "metadata": {},
   "source": [
    "# Iteration"
   ]
  },
  {
   "cell_type": "code",
   "execution_count": 31,
   "id": "63947d7d",
   "metadata": {},
   "outputs": [
    {
     "name": "stdout",
     "output_type": "stream",
     "text": [
      "0\n",
      "1.0\n",
      "1\n",
      "2.0\n",
      "2\n",
      "3.0\n",
      "3\n",
      "4.0\n",
      "4\n",
      "5.0\n",
      "5\n",
      "nan\n"
     ]
    }
   ],
   "source": [
    "is_in = 4 in series_1\n",
    "for key, value in series_1.items():\n",
    "    print(key)\n",
    "    print(value)"
   ]
  },
  {
   "cell_type": "code",
   "execution_count": 32,
   "id": "09f57faa",
   "metadata": {},
   "outputs": [
    {
     "name": "stdout",
     "output_type": "stream",
     "text": [
      "1.0\n",
      "2.0\n",
      "3.0\n",
      "4.0\n",
      "5.0\n",
      "nan\n"
     ]
    }
   ],
   "source": [
    "for value in series_1:\n",
    "    print(value)"
   ]
  }
 ],
 "metadata": {
  "kernelspec": {
   "display_name": "Python 3 (ipykernel)",
   "language": "python",
   "name": "python3"
  },
  "language_info": {
   "codemirror_mode": {
    "name": "ipython",
    "version": 3
   },
   "file_extension": ".py",
   "mimetype": "text/x-python",
   "name": "python",
   "nbconvert_exporter": "python",
   "pygments_lexer": "ipython3",
   "version": "3.9.16"
  }
 },
 "nbformat": 4,
 "nbformat_minor": 5
}
