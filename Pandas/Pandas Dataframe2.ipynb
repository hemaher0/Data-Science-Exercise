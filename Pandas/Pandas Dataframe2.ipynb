{
 "cells": [
  {
   "cell_type": "code",
   "execution_count": 29,
   "id": "61dd8161",
   "metadata": {},
   "outputs": [],
   "source": [
    "import pandas as pd"
   ]
  },
  {
   "cell_type": "code",
   "execution_count": 30,
   "id": "bb6df87d",
   "metadata": {},
   "outputs": [
    {
     "name": "stdout",
     "output_type": "stream",
     "text": [
      "      col1  col2  col3\n",
      "row1   1.0   4.0   7.0\n",
      "row2   2.0   NaN   5.0\n",
      "row3   3.0   5.0   NaN\n",
      "row4   NaN   3.0   NaN\n",
      "row6   NaN   NaN  10.0\n",
      "row7   NaN   NaN   7.0\n",
      "      col1  col2  col3\n",
      "row1  10.0   4.0   3.0\n",
      "row2   2.0   NaN   5.0\n",
      "row3   9.0   5.0   NaN\n",
      "row4   NaN   6.0   NaN\n",
      "row6   NaN   NaN   0.0\n",
      "row7   NaN   NaN   8.0\n",
      "------------------\n"
     ]
    }
   ],
   "source": [
    "df_1 = pd.DataFrame({'col1':{'row1':1, 'row2':2, 'row3':3}, 'col2': {'row1':4, 'row3':5, 'row4':3}, 'col3' : {'row1':7, 'row2':5, 'row6': 10, 'row7': 7}})\n",
    "df_2 = pd.DataFrame({'col1':{'row1':10, 'row2':2, 'row3':9}, 'col2': {'row1':4, 'row3':5, 'row4':6}, 'col3' : {'row1':3, 'row2':5, 'row6': 0, 'row7': 8}})\n",
    "\n",
    "print(df_1)\n",
    "print(df_2)\n",
    "print(\"------------------\")\n"
   ]
  },
  {
   "cell_type": "code",
   "execution_count": 31,
   "id": "40365172",
   "metadata": {},
   "outputs": [
    {
     "name": "stdout",
     "output_type": "stream",
     "text": [
      "      col1  col2  col3  col4\n",
      "row1   1.0   4.0   7.0     1\n",
      "row2   2.0   NaN   5.0     2\n",
      "row3   3.0   5.0   NaN     3\n",
      "row4   NaN   3.0   NaN     4\n",
      "row6   NaN   NaN  10.0     5\n",
      "row7   NaN   NaN   7.0     6\n",
      "row5  10.0  20.0  30.0    40\n"
     ]
    }
   ],
   "source": [
    "df_1['col4'] = [1,2,3,4,5,6]\n",
    "df_1.loc['row5'] = [10,20,30,40]\n",
    "print(df_1)"
   ]
  },
  {
   "cell_type": "code",
   "execution_count": 32,
   "id": "ad9a3c65",
   "metadata": {},
   "outputs": [
    {
     "name": "stdout",
     "output_type": "stream",
     "text": [
      "   col1  col2  col3  col4\n",
      "0   1.0   4.0   7.0     1\n",
      "1   2.0   NaN   5.0     2\n",
      "2   3.0   5.0   NaN     3\n",
      "3   NaN   3.0   NaN     4\n",
      "4   NaN   NaN  10.0     5\n",
      "5   NaN   NaN   7.0     6\n",
      "6  10.0  20.0  30.0    40\n",
      "7  11.0  12.0  13.0    14\n"
     ]
    },
    {
     "name": "stderr",
     "output_type": "stream",
     "text": [
      "C:\\Users\\Administrator\\AppData\\Local\\Temp\\ipykernel_6580\\450580467.py:1: FutureWarning: The frame.append method is deprecated and will be removed from pandas in a future version. Use pandas.concat instead.\n",
      "  df_1 = df_1.append(pd.Series([11,12,13,14], index=['col1','col2','col3', 'col4']), ignore_index=True)\n"
     ]
    }
   ],
   "source": [
    "df_1 = df_1.append(pd.Series([11,12,13,14], index=['col1','col2','col3', 'col4']), ignore_index=True)\n",
    "print(df_1)"
   ]
  },
  {
   "cell_type": "code",
   "execution_count": 33,
   "id": "43d29b5e",
   "metadata": {
    "scrolled": false
   },
   "outputs": [
    {
     "name": "stdout",
     "output_type": "stream",
     "text": [
      "      col1  col2  col3\n",
      "row1   1.0   4.0   7.0\n",
      "row2   2.0   NaN   5.0\n",
      "row3   3.0   5.0   NaN\n",
      "row4   NaN   3.0   NaN\n",
      "row6   NaN   NaN  10.0\n",
      "row7   NaN   NaN   7.0\n"
     ]
    }
   ],
   "source": [
    "df_1 = pd.DataFrame({'col1':{'row1':1, 'row2':2, 'row3':3}, 'col2': {'row1':4, 'row3':5, 'row4':3}, 'col3' : {'row1':7, 'row2':5, 'row6': 10, 'row7': 7}})\n",
    "df_2 = pd.DataFrame({'col1':{'row1':10, 'row2':2, 'row3':9}, 'col2': {'row1':4, 'row3':5, 'row4':6}, 'col3' : {'row1':3, 'row2':5, 'row6': 0, 'row7': 8}})\n",
    "\n",
    "combined = df_1.combine_first(df_2)\n",
    "print(combined)"
   ]
  },
  {
   "cell_type": "code",
   "execution_count": 34,
   "id": "02729f46",
   "metadata": {},
   "outputs": [
    {
     "name": "stdout",
     "output_type": "stream",
     "text": [
      "      col1  col2  col3\n",
      "row1   1.0   4.0   7.0\n",
      "row2   2.0   NaN   5.0\n",
      "row3   3.0   5.0   NaN\n",
      "row4   NaN   3.0   NaN\n",
      "row6   NaN   NaN  10.0\n",
      "row7   NaN   NaN   7.0\n",
      "row1  10.0   4.0   3.0\n",
      "row2   2.0   NaN   5.0\n",
      "row3   9.0   5.0   NaN\n",
      "row4   NaN   6.0   NaN\n",
      "row6   NaN   NaN   0.0\n",
      "row7   NaN   NaN   8.0\n"
     ]
    }
   ],
   "source": [
    "combined2 = pd.concat([df_1, df_2])\n",
    "print(combined2)"
   ]
  },
  {
   "cell_type": "code",
   "execution_count": 35,
   "id": "2cc36ce3",
   "metadata": {},
   "outputs": [
    {
     "name": "stdout",
     "output_type": "stream",
     "text": [
      "      col1  col2\n",
      "row1   1.0   4.0\n",
      "row2   2.0   NaN\n",
      "row3   3.0   5.0\n",
      "row6   NaN   NaN\n",
      "row7   NaN   NaN\n"
     ]
    }
   ],
   "source": [
    "dropped = df_1.drop(index=['row4'], columns=['col3'])\n",
    "print(dropped)"
   ]
  },
  {
   "cell_type": "code",
   "execution_count": 36,
   "id": "01f6579e",
   "metadata": {},
   "outputs": [
    {
     "name": "stdout",
     "output_type": "stream",
     "text": [
      "      col1  col3\n",
      "row1   1.0   7.0\n",
      "row2   2.0   5.0\n",
      "row3   3.0   NaN\n",
      "row4   NaN   NaN\n",
      "row6   NaN  10.0\n",
      "row7   NaN   7.0\n"
     ]
    }
   ],
   "source": [
    "del df_1['col2']\n",
    "print(df_1)"
   ]
  },
  {
   "cell_type": "code",
   "execution_count": 37,
   "id": "60546ab8",
   "metadata": {
    "scrolled": false
   },
   "outputs": [
    {
     "name": "stdout",
     "output_type": "stream",
     "text": [
      "row1    1.0\n",
      "row2    2.0\n",
      "row3    3.0\n",
      "row4    NaN\n",
      "row6    NaN\n",
      "row7    NaN\n",
      "Name: col1, dtype: float64\n"
     ]
    }
   ],
   "source": [
    "popped = df_1.pop('col1')\n",
    "print(popped)"
   ]
  },
  {
   "cell_type": "code",
   "execution_count": 38,
   "id": "ac68d8f9",
   "metadata": {},
   "outputs": [
    {
     "name": "stdout",
     "output_type": "stream",
     "text": [
      "      col1  col2  col3\n",
      "row1   1.0   4.0   7.0\n",
      "row2   2.0   NaN   5.0\n",
      "row3   3.0   5.0   NaN\n",
      "row4   NaN   3.0   NaN\n",
      "row6   NaN   NaN  10.0\n",
      "row7   NaN   NaN   7.0\n",
      "---------------------\n",
      "      col1  col2  col3\n",
      "row1   2.0   4.0   7.0\n",
      "row2   3.0   NaN   5.0\n",
      "row3   4.0   5.0   NaN\n",
      "row4   5.0   3.0   NaN\n",
      "row6   6.0   NaN  10.0\n",
      "row7  10.0   NaN   7.0\n"
     ]
    }
   ],
   "source": [
    "df = pd.DataFrame({'col1':{'row1':1, 'row2':2, 'row3':3}, 'col2': {'row1':4, 'row3':5, 'row4':3}, 'col3' : {'row1':7, 'row2':5, 'row6': 10, 'row7': 7}})\n",
    "print(df)\n",
    "print(\"---------------------\")\n",
    "\n",
    "# Reassinging values\n",
    "df['col1'] = [2.0, 3, 4, 5,6, 10]\n",
    "print(df)"
   ]
  },
  {
   "cell_type": "code",
   "execution_count": 39,
   "id": "5e749aa0",
   "metadata": {},
   "outputs": [
    {
     "name": "stdout",
     "output_type": "stream",
     "text": [
      "      col1  col2  col3\n",
      "row1   2.0   1.0   7.0\n",
      "row2   3.0   2.0   5.0\n",
      "row3   4.0   3.0   NaN\n",
      "row4   5.0   4.0   NaN\n",
      "row6   6.0   NaN  10.0\n",
      "row7  10.0   NaN   7.0\n"
     ]
    }
   ],
   "source": [
    "df['col2'] = pd.Series({'row1':1, 'row2':2, 'row3':3, 'row4':4})\n",
    "print(df)"
   ]
  },
  {
   "cell_type": "code",
   "execution_count": 40,
   "id": "eee20fa8",
   "metadata": {},
   "outputs": [
    {
     "name": "stdout",
     "output_type": "stream",
     "text": [
      "      col1  col2  col3\n",
      "row1  10.0  11.0  12.0\n",
      "row2   3.0   2.0   5.0\n",
      "row3   4.0   3.0   NaN\n",
      "row4   5.0   4.0   NaN\n",
      "row6   6.0   NaN  10.0\n",
      "row7  10.0   NaN   7.0\n"
     ]
    }
   ],
   "source": [
    "df.loc['row1'] = [10, 11, 12]\n",
    "print(df)"
   ]
  },
  {
   "cell_type": "code",
   "execution_count": 41,
   "id": "76af33f2",
   "metadata": {},
   "outputs": [],
   "source": [
    "df = df.fillna(0)\n",
    "print(df)"
   ]
  },
  {
   "cell_type": "code",
   "execution_count": 42,
   "id": "7559cdea",
   "metadata": {
    "scrolled": false
   },
   "outputs": [
    {
     "name": "stdout",
     "output_type": "stream",
     "text": [
      "      col3  col2  col1\n",
      "row1  12.0  11.0  10.0\n",
      "row2   5.0   2.0   3.0\n",
      "row3   0.0   3.0   4.0\n",
      "row4   0.0   4.0   5.0\n",
      "row6  10.0   0.0   6.0\n",
      "row7   7.0   0.0  10.0\n"
     ]
    }
   ],
   "source": [
    "# Restructuring\n",
    "restructureddf = df.reindex(columns=['col3', 'col2', 'col1'])\n",
    "df.columns = ['1', '2', '3']\n",
    "print(restructureddf)"
   ]
  },
  {
   "cell_type": "code",
   "execution_count": 45,
   "id": "3fd3759c",
   "metadata": {
    "scrolled": false
   },
   "outputs": [
    {
     "name": "stdout",
     "output_type": "stream",
     "text": [
      "         1     2     3\n",
      "row3   4.0   3.0   0.0\n",
      "row4   5.0   4.0   0.0\n",
      "row2   3.0   2.0   5.0\n",
      "row1  10.0  11.0  12.0\n",
      "row0   NaN   NaN   NaN\n"
     ]
    }
   ],
   "source": [
    "restructureddf = df.reindex(index=['row3', 'row4','row2','row1', 'row0'])\n",
    "print(restructureddf)"
   ]
  },
  {
   "cell_type": "code",
   "execution_count": 48,
   "id": "a76102a0",
   "metadata": {},
   "outputs": [
    {
     "name": "stdout",
     "output_type": "stream",
     "text": [
      "       1     2     3\n",
      "r1  10.0  11.0  12.0\n",
      "r2   3.0   2.0   5.0\n",
      "r3   4.0   3.0   0.0\n",
      "r4   5.0   4.0   0.0\n",
      "r5   6.0   0.0  10.0\n",
      "r6  10.0   0.0   7.0\n"
     ]
    }
   ],
   "source": [
    "df.index = ['r1','r2','r3','r4', 'r5', 'r6']\n",
    "print(df)"
   ]
  },
  {
   "cell_type": "code",
   "execution_count": null,
   "id": "1fb36707",
   "metadata": {},
   "outputs": [],
   "source": [
    " "
   ]
  }
 ],
 "metadata": {
  "kernelspec": {
   "display_name": "Python 3 (ipykernel)",
   "language": "python",
   "name": "python3"
  },
  "language_info": {
   "codemirror_mode": {
    "name": "ipython",
    "version": 3
   },
   "file_extension": ".py",
   "mimetype": "text/x-python",
   "name": "python",
   "nbconvert_exporter": "python",
   "pygments_lexer": "ipython3",
   "version": "3.9.16"
  }
 },
 "nbformat": 4,
 "nbformat_minor": 5
}
