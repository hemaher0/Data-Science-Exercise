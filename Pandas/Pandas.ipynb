{
 "cells": [
  {
   "cell_type": "code",
   "execution_count": 31,
   "id": "c230db45",
   "metadata": {},
   "outputs": [],
   "source": [
    "import pandas as pd\n",
    "import numpy as np"
   ]
  },
  {
   "cell_type": "markdown",
   "id": "d8ac4a05",
   "metadata": {},
   "source": [
    "# Pandas Series"
   ]
  },
  {
   "cell_type": "code",
   "execution_count": 12,
   "id": "81b467ef",
   "metadata": {},
   "outputs": [
    {
     "name": "stdout",
     "output_type": "stream",
     "text": [
      "0    1.0\n",
      "1    2.0\n",
      "2    3.0\n",
      "dtype: float32\n"
     ]
    }
   ],
   "source": [
    "series = pd.Series([4, 5, 6])\n",
    "series = pd.Series([4.0, 5.0, 6.0])\n",
    "series = pd.Series([True, False, True])\n",
    "series = pd.Series(['1', '2', '3'])\n",
    "series = pd.Series([1,2,3.0, 4.0, 'Nim'])\n",
    "series = pd.Series([1,3.0, None, np.nan])\n",
    "series = pd.Series([1,3.0, None, np.nan, 'Nim'])\n",
    "series = pd.Series([1,2,3], dtype = np.float32)\n",
    "print(series)"
   ]
  },
  {
   "cell_type": "code",
   "execution_count": 14,
   "id": "be0f9ee5",
   "metadata": {},
   "outputs": [
    {
     "name": "stdout",
     "output_type": "stream",
     "text": [
      "a,    1\n",
      "b     2\n",
      "c     3\n",
      "dtype: int64\n"
     ]
    }
   ],
   "source": [
    "series = pd.Series({'a':1, 'b':2, 'c':3})\n",
    "series = pd.Series([1,2,3], index=['a,','b','c'])\n",
    "print(series)"
   ]
  },
  {
   "cell_type": "code",
   "execution_count": 18,
   "id": "ef8b6e88",
   "metadata": {},
   "outputs": [
    {
     "name": "stdout",
     "output_type": "stream",
     "text": [
      "a    10\n",
      "b    10\n",
      "c    10\n",
      "d    10\n",
      "e    10\n",
      "dtype: int64\n"
     ]
    }
   ],
   "source": [
    "series = pd.Series(10, index=['a','b','c','d','e'])\n",
    "print(series)"
   ]
  },
  {
   "cell_type": "code",
   "execution_count": 21,
   "id": "f1c9da02",
   "metadata": {
    "scrolled": true
   },
   "outputs": [
    {
     "name": "stdout",
     "output_type": "stream",
     "text": [
      "<class 'pandas.core.series.Series'>\n",
      "<class 'numpy.ndarray'>\n",
      "<class 'numpy.ndarray'>\n",
      "[1 2 3]\n"
     ]
    }
   ],
   "source": [
    "series = pd.Series(np.array([1,2,3]))\n",
    "numpy_series = series.to_numpy()\n",
    "nump_series = np.asarray(series)\n",
    "print(type(series))\n",
    "print(type(numpy_series))\n",
    "print(type(nump_series))\n",
    "print(numpy_series)"
   ]
  },
  {
   "cell_type": "markdown",
   "id": "9afc5fe7",
   "metadata": {},
   "source": [
    "# Date Ranges"
   ]
  },
  {
   "cell_type": "code",
   "execution_count": 25,
   "id": "a52abcd3",
   "metadata": {},
   "outputs": [
    {
     "name": "stdout",
     "output_type": "stream",
     "text": [
      "DatetimeIndex(['2020-03-01', '2020-03-02', '2020-03-03', '2020-03-04',\n",
      "               '2020-03-05', '2020-03-06', '2020-03-07', '2020-03-08',\n",
      "               '2020-03-09', '2020-03-10'],\n",
      "              dtype='datetime64[ns]', freq='D')\n"
     ]
    }
   ],
   "source": [
    "dates = pd.date_range('20200301', periods=10)\n",
    "print(dates)"
   ]
  },
  {
   "cell_type": "code",
   "execution_count": 27,
   "id": "1cd6d0cf",
   "metadata": {},
   "outputs": [
    {
     "name": "stdout",
     "output_type": "stream",
     "text": [
      "DatetimeIndex(['2020-03-31', '2020-04-30', '2020-05-31', '2020-06-30',\n",
      "               '2020-07-31', '2020-08-31', '2020-09-30', '2020-10-31',\n",
      "               '2020-11-30', '2020-12-31'],\n",
      "              dtype='datetime64[ns]', freq='M')\n"
     ]
    }
   ],
   "source": [
    "dates = pd.date_range('20200301', periods=10, freq='M')\n",
    "print(dates)"
   ]
  },
  {
   "cell_type": "code",
   "execution_count": 36,
   "id": "4a04c154",
   "metadata": {},
   "outputs": [
    {
     "name": "stdout",
     "output_type": "stream",
     "text": [
      "DatetimeIndex(['2020-03-01 00:00:00', '2020-03-01 02:40:00',\n",
      "               '2020-03-01 05:20:00', '2020-03-01 08:00:00',\n",
      "               '2020-03-01 10:40:00', '2020-03-01 13:20:00',\n",
      "               '2020-03-01 16:00:00', '2020-03-01 18:40:00',\n",
      "               '2020-03-01 21:20:00', '2020-03-02 00:00:00'],\n",
      "              dtype='datetime64[ns]', freq=None)\n"
     ]
    }
   ],
   "source": [
    "dates = pd.date_range('20200301', '20200302', periods=10)\n",
    "print(dates)"
   ]
  },
  {
   "cell_type": "code",
   "execution_count": 37,
   "id": "b1328801",
   "metadata": {},
   "outputs": [
    {
     "name": "stdout",
     "output_type": "stream",
     "text": [
      "DatetimeIndex(['2020-03-01 00:00:00', '2020-03-01 04:00:00',\n",
      "               '2020-03-01 08:00:00', '2020-03-01 12:00:00',\n",
      "               '2020-03-01 16:00:00', '2020-03-01 20:00:00',\n",
      "               '2020-03-02 00:00:00'],\n",
      "              dtype='datetime64[ns]', freq='4H')\n"
     ]
    }
   ],
   "source": [
    "dates = pd.date_range('20200301', '20200302', freq='4H')\n",
    "print(dates)"
   ]
  },
  {
   "cell_type": "code",
   "execution_count": 40,
   "id": "222b5bfd",
   "metadata": {},
   "outputs": [
    {
     "name": "stdout",
     "output_type": "stream",
     "text": [
      "2020-03-01    1\n",
      "2020-03-02    2\n",
      "2020-03-03    3\n",
      "2020-03-04    4\n",
      "2020-03-05    5\n",
      "Freq: D, dtype: int64\n"
     ]
    }
   ],
   "source": [
    "dates = pd.date_range('20200301',periods=5)\n",
    "series = pd.Series([1,2,3,4,5], index=dates)\n",
    "print(series)"
   ]
  },
  {
   "cell_type": "code",
   "execution_count": 44,
   "id": "568acc8d",
   "metadata": {},
   "outputs": [
    {
     "name": "stdout",
     "output_type": "stream",
     "text": [
      "0   2020-03-01\n",
      "1   2020-03-02\n",
      "2   2020-03-03\n",
      "3   2020-03-04\n",
      "4   2020-03-05\n",
      "dtype: datetime64[ns]\n",
      "0    1\n",
      "1    2\n",
      "2    3\n",
      "3    4\n",
      "4    5\n",
      "dtype: int64\n"
     ]
    }
   ],
   "source": [
    "date_series = pd.Series(dates)\n",
    "days = date_series.dt.day\n",
    "print(date_series)\n",
    "print(days)"
   ]
  },
  {
   "cell_type": "code",
   "execution_count": 60,
   "id": "0c34b93b",
   "metadata": {},
   "outputs": [
    {
     "name": "stdout",
     "output_type": "stream",
     "text": [
      "1 <class 'numpy.int64'>\n",
      "1 <class 'numpy.int64'>\n",
      "e    5\n",
      "dtype: int64 <class 'pandas.core.series.Series'>\n",
      "None\n",
      "0\n"
     ]
    }
   ],
   "source": [
    "series = pd.Series([1,2,3,4,5], index =['a', 'b','c','d','e'])\n",
    "\n",
    "print(series[0], type(series[0]))\n",
    "print(series['a'], type(series['a']))\n",
    "print(series[-1:], type(series[-1:]))\n",
    "\n",
    "#tenth = series[9]\n",
    "#tenth = series['j']\n",
    "tenth = series.get(9)\n",
    "j = series.get('j', default=0)\n",
    "print(tenth)\n",
    "print(j)"
   ]
  },
  {
   "cell_type": "code",
   "execution_count": 62,
   "id": "f5f01b09",
   "metadata": {},
   "outputs": [
    {
     "name": "stdout",
     "output_type": "stream",
     "text": [
      "e    5\n",
      "dtype: int64\n",
      "a    1\n",
      "b    2\n",
      "c    3\n",
      "dtype: int64\n"
     ]
    }
   ],
   "source": [
    "series = pd.Series([1,2,3,4,5], index=['a', 'b','c','d','e'])\n",
    "\n",
    "last = series[-1:]\n",
    "three = series[0:3]\n",
    "print(last)\n",
    "print(three)"
   ]
  },
  {
   "cell_type": "code",
   "execution_count": 63,
   "id": "a89a5e68",
   "metadata": {},
   "outputs": [
    {
     "name": "stdout",
     "output_type": "stream",
     "text": [
      "d    4\n",
      "e    5\n",
      "dtype: int64\n"
     ]
    }
   ],
   "source": [
    "gt3 = series[series >3]\n",
    "print(gt3)"
   ]
  },
  {
   "cell_type": "code",
   "execution_count": 65,
   "id": "bcd5a91d",
   "metadata": {},
   "outputs": [
    {
     "name": "stdout",
     "output_type": "stream",
     "text": [
      "Index(['a', 'b', 'c', 'd', 'e'], dtype='object')\n",
      "<PandasArray>\n",
      "[1, 2, 3, 4, 5]\n",
      "Length: 5, dtype: int64\n"
     ]
    }
   ],
   "source": [
    "indexes = series.index\n",
    "pandas_array = series.array\n",
    "print(indexes)\n",
    "print(pandas_array)"
   ]
  }
 ],
 "metadata": {
  "kernelspec": {
   "display_name": "Python 3 (ipykernel)",
   "language": "python",
   "name": "python3"
  },
  "language_info": {
   "codemirror_mode": {
    "name": "ipython",
    "version": 3
   },
   "file_extension": ".py",
   "mimetype": "text/x-python",
   "name": "python",
   "nbconvert_exporter": "python",
   "pygments_lexer": "ipython3",
   "version": "3.9.16"
  }
 },
 "nbformat": 4,
 "nbformat_minor": 5
}
