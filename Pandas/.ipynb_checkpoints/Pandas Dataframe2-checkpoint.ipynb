{
 "cells": [
  {
   "cell_type": "code",
   "execution_count": 1,
   "id": "61dd8161",
   "metadata": {},
   "outputs": [],
   "source": [
    "import pandas as pd"
   ]
  },
  {
   "cell_type": "code",
   "execution_count": 2,
   "id": "82cd06b7",
   "metadata": {},
   "outputs": [
    {
     "name": "stdout",
     "output_type": "stream",
     "text": [
      "      col1  col2  col3\n",
      "row1   1.0   4.0   7.0\n",
      "row2   2.0   NaN   5.0\n",
      "row3   3.0   5.0   NaN\n",
      "row4   NaN   3.0   NaN\n",
      "row6   NaN   NaN  10.0\n",
      "row7   NaN   NaN   7.0\n",
      "      col1  col2  col3\n",
      "row1  10.0   4.0   3.0\n",
      "row2   2.0   NaN   5.0\n",
      "row3   9.0   5.0   NaN\n",
      "row4   NaN   6.0   NaN\n",
      "row6   NaN   NaN   0.0\n",
      "row7   NaN   NaN   8.0\n"
     ]
    }
   ],
   "source": [
    "df_1 = pd.DataFrame({'col1':{'row1':1, 'row2':2, 'row3':3}, 'col2': {'row1':4, 'row3':5, 'row4':3}, 'col3' : {'row1':7, 'row2':5, 'row6': 10, 'row7': 7}})\n",
    "df_2 = pd.DataFrame({'col1':{'row1':10, 'row2':2, 'row3':9}, 'col2': {'row1':4, 'row3':5, 'row4':6}, 'col3' : {'row1':3, 'row2':5, 'row6': 0, 'row7': 8}})\n",
    "\n",
    "print(df_1)\n",
    "print(df_2)\n",
    "print(\"------------------\")\n"
   ]
  }
 ],
 "metadata": {
  "kernelspec": {
   "display_name": "Python 3 (ipykernel)",
   "language": "python",
   "name": "python3"
  },
  "language_info": {
   "codemirror_mode": {
    "name": "ipython",
    "version": 3
   },
   "file_extension": ".py",
   "mimetype": "text/x-python",
   "name": "python",
   "nbconvert_exporter": "python",
   "pygments_lexer": "ipython3",
   "version": "3.9.16"
  }
 },
 "nbformat": 4,
 "nbformat_minor": 5
}
