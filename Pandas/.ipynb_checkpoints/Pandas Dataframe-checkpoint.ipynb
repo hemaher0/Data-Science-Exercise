{
 "cells": [
  {
   "cell_type": "code",
   "execution_count": 1,
   "id": "ca74c03c",
   "metadata": {},
   "outputs": [],
   "source": [
    "import pandas as pd\n",
    "import numpy as np"
   ]
  },
  {
   "cell_type": "code",
   "execution_count": 2,
   "id": "52dd7d35",
   "metadata": {},
   "outputs": [
    {
     "name": "stdout",
     "output_type": "stream",
     "text": [
      "   0\n",
      "0  1\n",
      "1  2\n",
      "2  3\n"
     ]
    }
   ],
   "source": [
    "df = pd.DataFrame([1,2,3])\n",
    "\n",
    "print(df)"
   ]
  },
  {
   "cell_type": "code",
   "execution_count": 3,
   "id": "aeaad665",
   "metadata": {},
   "outputs": [
    {
     "name": "stdout",
     "output_type": "stream",
     "text": [
      "     0\n",
      "0  1.0\n",
      "1  2.0\n",
      "2  3.0\n",
      "<class 'pandas.core.frame.DataFrame'>\n"
     ]
    }
   ],
   "source": [
    "df = pd.DataFrame([1,2,3], dtype=np.float16)\n",
    "print(df)\n",
    "print(type(df))"
   ]
  },
  {
   "cell_type": "code",
   "execution_count": 4,
   "id": "16b51502",
   "metadata": {},
   "outputs": [
    {
     "name": "stdout",
     "output_type": "stream",
     "text": [
      "   0\n",
      "0  1\n",
      "1  2\n",
      "2  3\n"
     ]
    }
   ],
   "source": [
    "df = pd.DataFrame(['1','2','3'])\n",
    "print(df)"
   ]
  },
  {
   "cell_type": "code",
   "execution_count": 5,
   "id": "db2d87e5",
   "metadata": {},
   "outputs": [
    {
     "name": "stdout",
     "output_type": "stream",
     "text": [
      "   0  1  2\n",
      "0  1  2  3\n",
      "1  4  5  6\n",
      "2  7  8  9\n"
     ]
    }
   ],
   "source": [
    "df = pd.DataFrame([[1,2,3],[4,5,6],[7,8,9]])\n",
    "print(df)"
   ]
  },
  {
   "cell_type": "code",
   "execution_count": 6,
   "id": "08235bf9",
   "metadata": {},
   "outputs": [
    {
     "name": "stdout",
     "output_type": "stream",
     "text": [
      "   0  1  2    3\n",
      "0  1  2  3  NaN\n",
      "1  4  5  6  7.0\n",
      "2  7  8  9  NaN\n"
     ]
    }
   ],
   "source": [
    "df = pd.DataFrame([[1,2,3],[4,5,6,7],[7,8,9]])\n",
    "print(df)"
   ]
  },
  {
   "cell_type": "code",
   "execution_count": 7,
   "id": "05318393",
   "metadata": {},
   "outputs": [
    {
     "name": "stdout",
     "output_type": "stream",
     "text": [
      "   0  1  2\n",
      "0  5  5  5\n",
      "1  5  5  5\n"
     ]
    }
   ],
   "source": [
    "df = pd.DataFrame(5,index=[0,1], columns=[0,1,2])\n",
    "print(df)"
   ]
  },
  {
   "cell_type": "code",
   "execution_count": 8,
   "id": "0d11a3d0",
   "metadata": {},
   "outputs": [
    {
     "name": "stdout",
     "output_type": "stream",
     "text": [
      "   col1  col2  col3\n",
      "a     5     5     5\n",
      "b     5     5     5\n"
     ]
    }
   ],
   "source": [
    "df = pd.DataFrame(5,index=['a', 'b'], columns=['col1', 'col2', 'col3'])\n",
    "print(df)"
   ]
  },
  {
   "cell_type": "code",
   "execution_count": 9,
   "id": "f74bb246",
   "metadata": {},
   "outputs": [
    {
     "name": "stdout",
     "output_type": "stream",
     "text": [
      "   0\n",
      "a  1\n",
      "b  2\n",
      "c  3\n"
     ]
    }
   ],
   "source": [
    "df = pd.DataFrame([1,2,3],index=['a', 'b', 'c'])\n",
    "#df = pd.DataFrame([1,2,3],columns=['a', 'b', 'c']) this is not allowed\n",
    "\n",
    "print(df)"
   ]
  },
  {
   "cell_type": "code",
   "execution_count": 10,
   "id": "5bbac644",
   "metadata": {},
   "outputs": [
    {
     "name": "stdout",
     "output_type": "stream",
     "text": [
      "      a  b\n",
      "row1  1  2\n",
      "row2  3  4\n",
      "row3  5  6\n"
     ]
    }
   ],
   "source": [
    "df = pd.DataFrame([[1,2],[3,4],[5,6]],index=['row1','row2','row3'],columns=['a','b'])\n",
    "print(df)"
   ]
  },
  {
   "cell_type": "code",
   "execution_count": 11,
   "id": "e7c51b49",
   "metadata": {},
   "outputs": [
    {
     "name": "stdout",
     "output_type": "stream",
     "text": [
      "   col1  col2\n",
      "0     1     4\n",
      "1     2     5\n",
      "2     3     6\n"
     ]
    }
   ],
   "source": [
    "df = pd.DataFrame({'col1':[1,2,3], 'col2': [4,5,6]})\n",
    "#df = pd.DataFrame({'col1':[1,2,3], 'col2: [4,5,6,7]'}) #this is not allowed\n",
    "print(df)"
   ]
  },
  {
   "cell_type": "code",
   "execution_count": 12,
   "id": "55474849",
   "metadata": {},
   "outputs": [
    {
     "name": "stdout",
     "output_type": "stream",
     "text": [
      "      col1  col2\n",
      "row1   1.0   4.0\n",
      "row2   2.0   NaN\n",
      "row3   3.0   5.0\n",
      "row4   NaN   6.0\n"
     ]
    }
   ],
   "source": [
    "df = pd.DataFrame({'col1':{'row1':1, 'row2':2,'row3':3}, 'col2': {'row1':4, 'row3':5, 'row4':6}})\n",
    "print(df)"
   ]
  },
  {
   "cell_type": "code",
   "execution_count": 13,
   "id": "f63c9c8e",
   "metadata": {},
   "outputs": [
    {
     "name": "stdout",
     "output_type": "stream",
     "text": [
      "   col1  col2\n",
      "0     1     4\n",
      "1     2     5\n",
      "2     3     6\n"
     ]
    }
   ],
   "source": [
    "df = pd.DataFrame({'col1':pd.Series([1,2,3]), 'col2': pd.Series([4,5,6])})\n",
    "print(df)"
   ]
  },
  {
   "cell_type": "code",
   "execution_count": 18,
   "id": "1c18c2d1",
   "metadata": {},
   "outputs": [
    {
     "name": "stdout",
     "output_type": "stream",
     "text": [
      "      col1  col2  col3\n",
      "row1     1    10   100\n",
      "row2     2    20   200\n",
      "row3     3    30   300\n",
      "------------------\n",
      "row1    1\n",
      "row2    2\n",
      "row3    3\n",
      "Name: col1, dtype: int64\n"
     ]
    }
   ],
   "source": [
    "df = pd.DataFrame({'col1':{'row1' : 1, 'row2' : 2, 'row3' : 3}, 'col2':{'row1' : 10, 'row2' : 20, 'row3' : 30}, 'col3':{'row1' : 100, 'row2' : 200, 'row3' : 300}})\n",
    "print(df)\n",
    "print(\"------------------\")\n",
    "# Columns\n",
    "first_col = df['col1']\n",
    "print(first_col)"
   ]
  },
  {
   "cell_type": "code",
   "execution_count": 21,
   "id": "ab7bae35",
   "metadata": {
    "scrolled": true
   },
   "outputs": [
    {
     "name": "stdout",
     "output_type": "stream",
     "text": [
      "      col1  col2  col3\n",
      "row1     1    10   100\n",
      "row2     2    20   200\n",
      "row3     3    30   300\n",
      "------------------\n",
      "col1      1\n",
      "col2     10\n",
      "col3    100\n",
      "Name: row1, dtype: int64\n",
      "------------------\n",
      "col1      1\n",
      "col2     10\n",
      "col3    100\n",
      "Name: row1, dtype: int64\n"
     ]
    }
   ],
   "source": [
    "df = pd.DataFrame({'col1':{'row1' : 1, 'row2' : 2, 'row3' : 3}, 'col2':{'row1' : 10, 'row2' : 20, 'row3' : 30}, 'col3':{'row1' : 100, 'row2' : 200, 'row3' : 300}})\n",
    "print(df)\n",
    "print(\"------------------\")\n",
    "# Rows\n",
    "first_row = df.loc['row1']\n",
    "print(first_row)\n",
    "print(\"------------------\")\n",
    "first_row = df.iloc[0]\n",
    "print(first_row)"
   ]
  },
  {
   "cell_type": "code",
   "execution_count": 23,
   "id": "44fff2cd",
   "metadata": {},
   "outputs": [
    {
     "name": "stdout",
     "output_type": "stream",
     "text": [
      "[1, 1, 1, 1]\n"
     ]
    }
   ],
   "source": [
    "first =[]\n",
    "first.append(df['col1'].loc['row1'])\n",
    "first.append(df['col1'].iloc[0])\n",
    "first.append(df.loc['row1', 'col1'])\n",
    "first.append(df.iloc[0,0])\n",
    "print(first)"
   ]
  },
  {
   "cell_type": "code",
   "execution_count": 32,
   "id": "c728665b",
   "metadata": {},
   "outputs": [
    {
     "name": "stdout",
     "output_type": "stream",
     "text": [
      "      col1  col2  col3\n",
      "row1     1    10   100\n",
      "row2     2    20   200\n",
      "row3     3    30   300\n",
      "------------------\n",
      "      col1  col2\n",
      "row1     1    10\n",
      "row2     2    20\n",
      "row3     3    30\n",
      "------------------\n",
      "      col1  col2  col3\n",
      "row1     1    10   100\n",
      "row2     2    20   200\n",
      "      col1  col2  col3\n",
      "row1     1    10   100\n",
      "row2     2    20   200\n"
     ]
    }
   ],
   "source": [
    "df = pd.DataFrame({'col1':{'row1' : 1, 'row2' : 2, 'row3' : 3}, 'col2':{'row1' : 10, 'row2' : 20, 'row3' : 30}, 'col3':{'row1' : 100, 'row2' : 200, 'row3' : 300}})\n",
    "print(df)\n",
    "print(\"------------------\")\n",
    "#Columns slicing\n",
    "cols = df[['col1', 'col2']]\n",
    "print(cols)\n",
    "print(\"------------------\")\n",
    "#Row slicing\n",
    "rows = df.iloc[[0,1]]\n",
    "print(rows)\n",
    "rows = df.iloc[:2]\n",
    "print(rows)"
   ]
  },
  {
   "cell_type": "code",
   "execution_count": 33,
   "id": "c29d381f",
   "metadata": {},
   "outputs": [
    {
     "name": "stdout",
     "output_type": "stream",
     "text": [
      "      col1  col2  col3\n",
      "row1     1    10   100\n",
      "row3     3    30   300\n"
     ]
    }
   ],
   "source": [
    "rows = df.iloc[::2]\n",
    "print(rows)"
   ]
  },
  {
   "cell_type": "code",
   "execution_count": 34,
   "id": "7da9c70d",
   "metadata": {},
   "outputs": [
    {
     "name": "stdout",
     "output_type": "stream",
     "text": [
      "      col1  col2\n",
      "row1     1    10\n",
      "row2     2    20\n",
      "row3     3    30\n"
     ]
    }
   ],
   "source": [
    "rows = df.iloc[:,:2]\n",
    "print(rows)"
   ]
  },
  {
   "cell_type": "code",
   "execution_count": 35,
   "id": "8faa94c8",
   "metadata": {},
   "outputs": [
    {
     "name": "stdout",
     "output_type": "stream",
     "text": [
      "      col1  col2  col3\n",
      "row2     2    20   200\n",
      "row3     3    30   300\n"
     ]
    }
   ],
   "source": [
    "rows = df[df['col1']>1]\n",
    "\n",
    "print(rows)"
   ]
  },
  {
   "cell_type": "code",
   "execution_count": 38,
   "id": "92353f53",
   "metadata": {},
   "outputs": [
    {
     "name": "stdout",
     "output_type": "stream",
     "text": [
      "      col1  col2  col3\n",
      "row1     1    10   100\n",
      "row2     2    20   200\n",
      "      col1  col2  col3\n",
      "row3     3    30   300\n"
     ]
    }
   ],
   "source": [
    "#First/last n rows\n",
    "n_rows = df.head(2)\n",
    "print(n_rows)\n",
    "n_rows = df.tail(1) #empty is default\n",
    "print(n_rows)"
   ]
  }
 ],
 "metadata": {
  "kernelspec": {
   "display_name": "Python 3 (ipykernel)",
   "language": "python",
   "name": "python3"
  },
  "language_info": {
   "codemirror_mode": {
    "name": "ipython",
    "version": 3
   },
   "file_extension": ".py",
   "mimetype": "text/x-python",
   "name": "python",
   "nbconvert_exporter": "python",
   "pygments_lexer": "ipython3",
   "version": "3.9.16"
  }
 },
 "nbformat": 4,
 "nbformat_minor": 5
}
