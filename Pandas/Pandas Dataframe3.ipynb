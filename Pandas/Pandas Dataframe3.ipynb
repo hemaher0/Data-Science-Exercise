{
 "cells": [
  {
   "cell_type": "code",
   "execution_count": 24,
   "id": "92ff3110",
   "metadata": {},
   "outputs": [],
   "source": [
    "import pandas as pd\n",
    "import numpy as np"
   ]
  },
  {
   "cell_type": "code",
   "execution_count": 25,
   "id": "52006a44",
   "metadata": {},
   "outputs": [
    {
     "name": "stdout",
     "output_type": "stream",
     "text": [
      "      col1  col2  col3\n",
      "row1   6.0   9.0  12.0\n",
      "row2   7.0   NaN  10.0\n",
      "row3   8.0  10.0   NaN\n",
      "row4   NaN   8.0   NaN\n",
      "row6   NaN   NaN  15.0\n",
      "row7   NaN   NaN  12.0\n"
     ]
    }
   ],
   "source": [
    "df = pd.DataFrame({'col1':{'row1':1, 'row2':2, 'row3':3}, 'col2': {'row1':4, 'row3':5, 'row4':3}, 'col3' : {'row1':7, 'row2':5, 'row6': 10, 'row7': 7}})\n",
    "\n",
    "# Arithmetic\n",
    "result = df + 5\n",
    "print(result)"
   ]
  },
  {
   "cell_type": "code",
   "execution_count": 26,
   "id": "ae3fae8e",
   "metadata": {},
   "outputs": [
    {
     "name": "stdout",
     "output_type": "stream",
     "text": [
      "      col1  col2  col3\n",
      "row1   6.0   9.0  12.0\n",
      "row2   7.0   5.0  10.0\n",
      "row3   8.0  10.0   5.0\n",
      "row4   5.0   8.0   5.0\n",
      "row6   5.0   5.0  15.0\n",
      "row7   5.0   5.0  12.0\n"
     ]
    }
   ],
   "source": [
    "result = df.add(5, fill_value=0)\n",
    "print(result)"
   ]
  },
  {
   "cell_type": "markdown",
   "id": "341ce77b",
   "metadata": {},
   "source": [
    "# Transform"
   ]
  },
  {
   "cell_type": "code",
   "execution_count": 27,
   "id": "e588f022",
   "metadata": {},
   "outputs": [
    {
     "name": "stdout",
     "output_type": "stream",
     "text": [
      "      col1  col2   col3\n",
      "row1   1.0  16.0   49.0\n",
      "row2   4.0   NaN   25.0\n",
      "row3   9.0  25.0    NaN\n",
      "row4   NaN   9.0    NaN\n",
      "row6   NaN   NaN  100.0\n",
      "row7   NaN   NaN   49.0\n"
     ]
    }
   ],
   "source": [
    "result1 = df.transform(np.square)\n",
    "print(result1)"
   ]
  },
  {
   "cell_type": "code",
   "execution_count": 28,
   "id": "7b79e203",
   "metadata": {},
   "outputs": [
    {
     "name": "stdout",
     "output_type": "stream",
     "text": [
      "      col1  col2  col3\n",
      "row1   7.0  13.0  19.0\n",
      "row2   9.0   NaN  15.0\n",
      "row3  11.0  15.0   NaN\n",
      "row4   NaN  11.0   NaN\n",
      "row6   NaN   NaN  25.0\n",
      "row7   NaN   NaN  19.0\n"
     ]
    }
   ],
   "source": [
    "def f(x):\n",
    "    return (2*x) + 5\n",
    "result2 = df.transform(f)\n",
    "print(result2)"
   ]
  },
  {
   "cell_type": "code",
   "execution_count": 29,
   "id": "5d2fb840",
   "metadata": {},
   "outputs": [
    {
     "name": "stdout",
     "output_type": "stream",
     "text": [
      "      col1  col2   col3\n",
      "row1   1.0  16.0   49.0\n",
      "row2   4.0   NaN   25.0\n",
      "row3   9.0  25.0    NaN\n",
      "row4   NaN   9.0    NaN\n",
      "row6   NaN   NaN  100.0\n",
      "row7   NaN   NaN   49.0\n"
     ]
    }
   ],
   "source": [
    "result3 = df.transform('square')\n",
    "print(result3)"
   ]
  },
  {
   "cell_type": "code",
   "execution_count": 30,
   "id": "d13829ab",
   "metadata": {},
   "outputs": [
    {
     "name": "stdout",
     "output_type": "stream",
     "text": [
      "      col1  col2   col3\n",
      "row1   1.0  16.0   49.0\n",
      "row2   4.0   NaN   25.0\n",
      "row3   9.0  25.0    NaN\n",
      "row4   NaN   9.0    NaN\n",
      "row6   NaN   NaN  100.0\n",
      "row7   NaN   NaN   49.0\n"
     ]
    }
   ],
   "source": [
    "result4 = df.transform(lambda x: x**2)\n",
    "print(result4)"
   ]
  },
  {
   "cell_type": "code",
   "execution_count": 31,
   "id": "776d4b57",
   "metadata": {
    "scrolled": true
   },
   "outputs": [
    {
     "name": "stdout",
     "output_type": "stream",
     "text": [
      "       col1             col2             col3          \n",
      "     square       log square       log square       log\n",
      "row1    1.0  0.000000   16.0  1.386294   49.0  1.945910\n",
      "row2    4.0  0.693147    NaN       NaN   25.0  1.609438\n",
      "row3    9.0  1.098612   25.0  1.609438    NaN       NaN\n",
      "row4    NaN       NaN    9.0  1.098612    NaN       NaN\n",
      "row6    NaN       NaN    NaN       NaN  100.0  2.302585\n",
      "row7    NaN       NaN    NaN       NaN   49.0  1.945910\n"
     ]
    }
   ],
   "source": [
    "result5 = df.transform([np.square, np.log])\n",
    "print(result5)"
   ]
  },
  {
   "cell_type": "code",
   "execution_count": 32,
   "id": "76f46057",
   "metadata": {},
   "outputs": [
    {
     "name": "stdout",
     "output_type": "stream",
     "text": [
      "      col1      col2\n",
      "row1   1.0  1.386294\n",
      "row2   4.0       NaN\n",
      "row3   9.0  1.609438\n",
      "row4   NaN  1.098612\n",
      "row6   NaN       NaN\n",
      "row7   NaN       NaN\n"
     ]
    }
   ],
   "source": [
    "result6 = df.transform({'col1' : np.square, 'col2':np.log})\n",
    "print(result6)"
   ]
  },
  {
   "cell_type": "markdown",
   "id": "001c7970",
   "metadata": {},
   "source": [
    "# Transpose"
   ]
  },
  {
   "cell_type": "code",
   "execution_count": 33,
   "id": "5be00926",
   "metadata": {},
   "outputs": [
    {
     "name": "stdout",
     "output_type": "stream",
     "text": [
      "      row1  row2  row3  row4  row6  row7\n",
      "col1   1.0   2.0   3.0   NaN   NaN   NaN\n",
      "col2   4.0   NaN   5.0   3.0   NaN   NaN\n",
      "col3   7.0   5.0   NaN   NaN  10.0   7.0\n"
     ]
    }
   ],
   "source": [
    "result7 = df.transpose()\n",
    "print(result7)"
   ]
  },
  {
   "cell_type": "markdown",
   "id": "03c46cc2",
   "metadata": {},
   "source": [
    "# Type casting"
   ]
  },
  {
   "cell_type": "code",
   "execution_count": 36,
   "id": "d9cc138d",
   "metadata": {},
   "outputs": [
    {
     "name": "stdout",
     "output_type": "stream",
     "text": [
      "      col1  col2  col3\n",
      "row1   1.0   4.0   7.0\n",
      "row2   2.0   NaN   5.0\n",
      "row3   3.0   5.0   NaN\n",
      "row4   NaN   3.0   NaN\n",
      "row6   NaN   NaN  10.0\n",
      "row7   NaN   NaN   7.0\n"
     ]
    }
   ],
   "source": [
    "resultx = df.astype('object')\n",
    "resultx = df.astype(np.float16)\n",
    "print(resultx)"
   ]
  },
  {
   "cell_type": "markdown",
   "id": "5499a6db",
   "metadata": {},
   "source": [
    "# sorting"
   ]
  },
  {
   "cell_type": "code",
   "execution_count": 39,
   "id": "8924db15",
   "metadata": {},
   "outputs": [
    {
     "name": "stdout",
     "output_type": "stream",
     "text": [
      "      col3  col2  col1\n",
      "row1   7.0   4.0   1.0\n",
      "row2   5.0   NaN   2.0\n",
      "row3   NaN   5.0   3.0\n",
      "row4   NaN   3.0   NaN\n",
      "row6  10.0   NaN   NaN\n",
      "row7   7.0   NaN   NaN\n"
     ]
    }
   ],
   "source": [
    "resultr = df.sort_index(axis=1, ascending=False)\n",
    "print(resultr)"
   ]
  },
  {
   "cell_type": "code",
   "execution_count": 40,
   "id": "7bb8cd8b",
   "metadata": {},
   "outputs": [
    {
     "name": "stdout",
     "output_type": "stream",
     "text": [
      "      col1  col2  col3\n",
      "row2   2.0   NaN   5.0\n",
      "row1   1.0   4.0   7.0\n",
      "row7   NaN   NaN   7.0\n",
      "row6   NaN   NaN  10.0\n",
      "row3   3.0   5.0   NaN\n",
      "row4   NaN   3.0   NaN\n"
     ]
    }
   ],
   "source": [
    "resultr = df.sort_values('col3',axis=0)\n",
    "print(resultr)"
   ]
  }
 ],
 "metadata": {
  "kernelspec": {
   "display_name": "Python 3 (ipykernel)",
   "language": "python",
   "name": "python3"
  },
  "language_info": {
   "codemirror_mode": {
    "name": "ipython",
    "version": 3
   },
   "file_extension": ".py",
   "mimetype": "text/x-python",
   "name": "python",
   "nbconvert_exporter": "python",
   "pygments_lexer": "ipython3",
   "version": "3.9.16"
  }
 },
 "nbformat": 4,
 "nbformat_minor": 5
}
