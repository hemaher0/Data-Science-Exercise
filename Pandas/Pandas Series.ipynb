{
 "cells": [
  {
   "cell_type": "code",
   "execution_count": 42,
   "id": "38a174e7",
   "metadata": {},
   "outputs": [],
   "source": [
    "import pandas as pd\n",
    "import numpy as np"
   ]
  },
  {
   "cell_type": "code",
   "execution_count": 43,
   "id": "70cae85b",
   "metadata": {},
   "outputs": [
    {
     "name": "stdout",
     "output_type": "stream",
     "text": [
      "10\n"
     ]
    }
   ],
   "source": [
    "series = pd.Series([1,2,3,4,5,4,2,3,1,1])\n",
    "\n",
    "series_count = series.count()\n",
    "print(series_count)"
   ]
  },
  {
   "cell_type": "code",
   "execution_count": 44,
   "id": "6091d782",
   "metadata": {},
   "outputs": [
    {
     "name": "stdout",
     "output_type": "stream",
     "text": [
      "5\n",
      "1\n"
     ]
    }
   ],
   "source": [
    "series_max = series.max()\n",
    "series_min = series.min()\n",
    "\n",
    "print(series_max)\n",
    "print(series_min)"
   ]
  },
  {
   "cell_type": "code",
   "execution_count": 45,
   "id": "4f8ad018",
   "metadata": {},
   "outputs": [
    {
     "name": "stdout",
     "output_type": "stream",
     "text": [
      "count    10.000000\n",
      "mean      2.600000\n",
      "std       1.429841\n",
      "min       1.000000\n",
      "25%       1.250000\n",
      "50%       2.500000\n",
      "75%       3.750000\n",
      "max       5.000000\n",
      "dtype: float64\n",
      "26\n"
     ]
    }
   ],
   "source": [
    "description = series.describe()\n",
    "print(description)\n",
    "series_sum = series.sum()\n",
    "print(series_sum)"
   ]
  },
  {
   "cell_type": "code",
   "execution_count": 46,
   "id": "3389f2b0",
   "metadata": {},
   "outputs": [
    {
     "name": "stdout",
     "output_type": "stream",
     "text": [
      "4    5\n",
      "3    4\n",
      "dtype: int64\n",
      "0    1\n",
      "8    1\n",
      "dtype: int64\n"
     ]
    }
   ],
   "source": [
    "n_largest = series.nlargest(2)\n",
    "n_smallest = series.nsmallest(2)\n",
    "\n",
    "print(n_largest)\n",
    "print(n_smallest)"
   ]
  },
  {
   "cell_type": "code",
   "execution_count": 47,
   "id": "74221463",
   "metadata": {},
   "outputs": [
    {
     "name": "stdout",
     "output_type": "stream",
     "text": [
      "4\n",
      "0\n"
     ]
    }
   ],
   "source": [
    "max_index = series.idxmax()\n",
    "min_index = series.idxmin()\n",
    "\n",
    "print(max_index)\n",
    "print(min_index)"
   ]
  },
  {
   "cell_type": "code",
   "execution_count": 48,
   "id": "1a5ab59c",
   "metadata": {
    "scrolled": true
   },
   "outputs": [
    {
     "name": "stdout",
     "output_type": "stream",
     "text": [
      "1    3\n",
      "2    2\n",
      "3    2\n",
      "4    2\n",
      "5    1\n",
      "dtype: int64\n"
     ]
    }
   ],
   "source": [
    "histogram = series.value_counts()\n",
    "print(histogram)"
   ]
  },
  {
   "cell_type": "code",
   "execution_count": 49,
   "id": "95fd0435",
   "metadata": {},
   "outputs": [
    {
     "name": "stdout",
     "output_type": "stream",
     "text": [
      "count     3\n",
      "unique    3\n",
      "top       a\n",
      "freq      1\n",
      "dtype: object\n"
     ]
    }
   ],
   "source": [
    "series = pd.Series(['a', 'b', 'c'])\n",
    "description = series.describe()\n",
    "print(description)"
   ]
  },
  {
   "cell_type": "code",
   "execution_count": 50,
   "id": "18d6518d",
   "metadata": {},
   "outputs": [
    {
     "name": "stdout",
     "output_type": "stream",
     "text": [
      "False\n",
      "True\n"
     ]
    }
   ],
   "source": [
    "series = pd.Series([True, False, False, True, True])\n",
    "all_true = series.all()\n",
    "any_true = series.any()\n",
    "print(all_true)\n",
    "print(any_true)"
   ]
  },
  {
   "cell_type": "code",
   "execution_count": 51,
   "id": "933a290f",
   "metadata": {},
   "outputs": [
    {
     "name": "stdout",
     "output_type": "stream",
     "text": [
      "a    1\n",
      "b    2\n",
      "c    3\n",
      "d    4\n",
      "e    5\n",
      "f    6\n",
      "dtype: int64\n"
     ]
    }
   ],
   "source": [
    "series = pd.Series({'a':1,'b':2, 'c':3,'d':4,'e':5})\n",
    "series['f'] = 6\n",
    "print(series)"
   ]
  },
  {
   "cell_type": "code",
   "execution_count": 52,
   "id": "bf0b55b2",
   "metadata": {},
   "outputs": [
    {
     "name": "stdout",
     "output_type": "stream",
     "text": [
      "a    1\n",
      "b    2\n",
      "c    3\n",
      "d    4\n",
      "e    5\n",
      "f    6\n",
      "g    7\n",
      "h    8\n",
      "i    9\n",
      "dtype: int64\n"
     ]
    },
    {
     "name": "stderr",
     "output_type": "stream",
     "text": [
      "C:\\Users\\Administrator\\AppData\\Local\\Temp\\ipykernel_11052\\3511732678.py:1: FutureWarning: The series.append method is deprecated and will be removed from pandas in a future version. Use pandas.concat instead.\n",
      "  new_series = series.append(pd.Series({'g':7, 'h':8,'i':9}))\n"
     ]
    }
   ],
   "source": [
    "new_series = series.append(pd.Series({'g':7, 'h':8,'i':9}))\n",
    "print(new_series)"
   ]
  },
  {
   "cell_type": "code",
   "execution_count": 53,
   "id": "c33cc9fb",
   "metadata": {},
   "outputs": [
    {
     "name": "stdout",
     "output_type": "stream",
     "text": [
      "b    2\n",
      "c    3\n",
      "d    4\n",
      "e    5\n",
      "f    6\n",
      "dtype: int64\n"
     ]
    }
   ],
   "source": [
    "del series['a']\n",
    "print(series)"
   ]
  },
  {
   "cell_type": "code",
   "execution_count": 54,
   "id": "a3759041",
   "metadata": {},
   "outputs": [
    {
     "name": "stdout",
     "output_type": "stream",
     "text": [
      "b    2\n",
      "c    3\n",
      "d    4\n",
      "dtype: int64\n"
     ]
    }
   ],
   "source": [
    "new_series = series.drop(['e', 'f'])\n",
    "print(new_series)"
   ]
  },
  {
   "cell_type": "code",
   "execution_count": 55,
   "id": "e7c33a15",
   "metadata": {},
   "outputs": [
    {
     "name": "stdout",
     "output_type": "stream",
     "text": [
      "2\n"
     ]
    }
   ],
   "source": [
    "popped = series.pop('b')\n",
    "print(popped)"
   ]
  }
 ],
 "metadata": {
  "kernelspec": {
   "display_name": "Python 3 (ipykernel)",
   "language": "python",
   "name": "python3"
  },
  "language_info": {
   "codemirror_mode": {
    "name": "ipython",
    "version": 3
   },
   "file_extension": ".py",
   "mimetype": "text/x-python",
   "name": "python",
   "nbconvert_exporter": "python",
   "pygments_lexer": "ipython3",
   "version": "3.9.16"
  }
 },
 "nbformat": 4,
 "nbformat_minor": 5
}
